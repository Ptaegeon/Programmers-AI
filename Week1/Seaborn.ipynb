{
 "cells": [
  {
   "cell_type": "code",
   "execution_count": 17,
   "id": "8ff1eba2",
   "metadata": {},
   "outputs": [
    {
     "name": "stderr",
     "output_type": "stream",
     "text": [
      "WARNING: Ignoring invalid distribution -mageio (c:\\anaconda3\\lib\\site-packages)\n",
      "ERROR: Invalid requirement: '#chrome'\n",
      "WARNING: Ignoring invalid distribution -mageio (c:\\anaconda3\\lib\\site-packages)\n",
      "WARNING: Ignoring invalid distribution -mageio (c:\\anaconda3\\lib\\site-packages)\n",
      "WARNING: Ignoring invalid distribution -mageio (c:\\anaconda3\\lib\\site-packages)\n"
     ]
    }
   ],
   "source": [
    "# !pip install selenium\n",
    "# !pip install webdriver-manager\n",
    "# !apt-get update\n",
    "!pip install chromium-chromedriver\t#chrome 설치\n",
    "\n",
    "from selenium import webdriver\n",
    "from selenium.webdriver.chrome.service import Service\n",
    "from webdriver_manager.chrome import ChromeDriverManager"
   ]
  },
  {
   "cell_type": "code",
   "execution_count": 26,
   "id": "917d1793",
   "metadata": {
    "scrolled": true
   },
   "outputs": [
    {
     "name": "stderr",
     "output_type": "stream",
     "text": [
      "C:\\Users\\khyun\\AppData\\Local\\Temp/ipykernel_20848/3988435577.py:6: DeprecationWarning: use options instead of chrome_options\n",
      "  with webdriver.Chrome(service = Service(ChromeDriverManager().install()), chrome_options=chrome_options) as driver:\n"
     ]
    },
    {
     "name": "stdout",
     "output_type": "stream",
     "text": [
      "['24', '25', '25', '26', '25', '25', '23', '21', '20', '20', '19', '19', '18', '18', '18', '17']\n"
     ]
    }
   ],
   "source": [
    "chrome_options = webdriver.ChromeOptions()\n",
    "chrome_options.add_argument('--headless')\n",
    "chrome_options.add_argument('--no-sandbox')\n",
    "chrome_options.add_argument('--disable-dev-shm-usage')\n",
    "\n",
    "with webdriver.Chrome(service = Service(ChromeDriverManager().install()), chrome_options=chrome_options) as driver:\n",
    "    driver.get('https://www.weather.go.kr/w/weather/forecast/short-term.do')\n",
    "    driver.implicitly_wait(1)\n",
    "    temp = driver.find_element(By.ID, 'my-tchart').text\n",
    "    temp = temp.replace(\"℃\",\"\").split('\\n')\n",
    "    print(temp)\n"
   ]
  },
  {
   "cell_type": "code",
   "execution_count": 45,
   "id": "9698e3fe",
   "metadata": {
    "scrolled": true
   },
   "outputs": [
    {
     "data": {
      "image/png": "[encoded data removed]",
      "text/plain": [
       "<Figure size 432x288 with 1 Axes>"
      ]
     },
     "metadata": {
      "needs_background": "light"
     },
     "output_type": "display_data"
    }
   ],
   "source": [
    "import seaborn as sns\n",
    "import matplotlib.pyplot as plt\n",
    "sns.lineplot(x = range(len(temp)), y = temp)\n",
    "plt.ylim(mi , ma)\n",
    "plt.title('temperature')\n",
    "plt.show()"
   ]
  },
  {
   "cell_type": "code",
   "execution_count": 44,
   "id": "d7532b91",
   "metadata": {},
   "outputs": [],
   "source": [
    "temp = [int(t) for t in temp]\n",
    "mi = int(min(temp))-2\n",
    "ma = int(max(temp))+2"
   ]
  },
  {
   "cell_type": "code",
   "execution_count": 46,
   "id": "76c0ef86",
   "metadata": {},
   "outputs": [],
   "source": [
    "import requests\n",
    "from bs4 import BeautifulSoup as bs"
   ]
  },
  {
   "cell_type": "code",
   "execution_count": 47,
   "id": "6b3a6769",
   "metadata": {},
   "outputs": [],
   "source": [
    "user_agent = {'User-Agent' : 'Mozilla/5.0 (Windows NT 10.0; Win64; x64) AppleWebKit/537.36 (KHTML, like Gecko) Chrome/105.0.0.0 Safari/537.36'}"
   ]
  },
  {
   "cell_type": "code",
   "execution_count": 53,
   "id": "b9e8ad15",
   "metadata": {},
   "outputs": [],
   "source": [
    "import time\n",
    "frequency = {}\n",
    "\n",
    "for i in range(1,11):\n",
    "    res = requests.get('https://hashcode.co.kr/?page=%d' %i)\n",
    "    soup = bs(res.text, 'html.parser')\n",
    "    ul_tags = soup.find_all('ul','question-tags')\n",
    "    for ul in ul_tags:\n",
    "        li_tags = ul.find_all('li')\n",
    "        for li in li_tags :\n",
    "            tag = li.text.strip()\n",
    "            if tag in frequency:\n",
    "                frequency[tag] +=1\n",
    "            else :\n",
    "                frequency[tag] = 1\n",
    "    time.sleep(0.5)\n"
   ]
  },
  {
   "cell_type": "code",
   "execution_count": 57,
   "id": "bfb30341",
   "metadata": {},
   "outputs": [],
   "source": [
    "from collections import Counter\n",
    "counter = Counter(frequency)"
   ]
  },
  {
   "cell_type": "code",
   "execution_count": 59,
   "id": "47082949",
   "metadata": {},
   "outputs": [
    {
     "name": "stdout",
     "output_type": "stream",
     "text": [
      "['python', 'c', 'java', 'c++', 'pandas', 'list', 'selenium', 'android', 'for', 'android-studio'] [242, 42, 34, 23, 18, 15, 12, 12, 10, 9]\n"
     ]
    }
   ],
   "source": [
    "x, y = [], []\n",
    "for i, j in counter.most_common(10):\n",
    "    x.append(i)\n",
    "    y.append(j)\n",
    "\n",
    "    print(x,y)"
   ]
  },
  {
   "cell_type": "code",
   "execution_count": 84,
   "id": "488b548e",
   "metadata": {},
   "outputs": [
    {
     "data": {
      "image/png": "[encoded data removed]",
      "text/plain": [
       "<Figure size 576x432 with 1 Axes>"
      ]
     },
     "metadata": {
      "needs_background": "light"
     },
     "output_type": "display_data"
    }
   ],
   "source": [
    "plt.figure(figsize=(8,6))\n",
    "plt.rc('xtick', labelsize = 12)\n",
    "sns.barplot(x=x,y=y)\n",
    "\n",
    "plt.show()"
   ]
  }
 ],
 "metadata": {
  "kernelspec": {
   "display_name": "Python 3 (ipykernel)",
   "language": "python",
   "name": "python3"
  },
  "language_info": {
   "codemirror_mode": {
    "name": "ipython",
    "version": 3
   },
   "file_extension": ".py",
   "mimetype": "text/x-python",
   "name": "python",
   "nbconvert_exporter": "python",
   "pygments_lexer": "ipython3",
   "version": "3.9.7"
  }
 },
 "nbformat": 4,
 "nbformat_minor": 5
}
